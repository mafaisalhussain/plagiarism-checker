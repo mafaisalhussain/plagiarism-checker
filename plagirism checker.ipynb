{
 "cells": [
  {
   "cell_type": "code",
   "execution_count": 14,
   "id": "80605122",
   "metadata": {},
   "outputs": [
    {
     "name": "stdout",
     "output_type": "stream",
     "text": [
      "0.6956521739130435\n"
     ]
    }
   ],
   "source": [
    "# libraries\n",
    "from difflib import SequenceMatcher\n",
    "\n",
    "#code\n",
    "#plagiarism of file2 is chcked from file1\n",
    "with open(\"file1.txt\") as file1, open(\"file2.txt\") as file2:\n",
    "    data1=file1.read()\n",
    "    data2=file2.read()\n",
    "    plagiarism_ratio=SequenceMatcher(None,data1,data2).ratio()\n",
    "    print(plagiarism_ratio)"
   ]
  },
  {
   "cell_type": "code",
   "execution_count": null,
   "id": "49c8f44d",
   "metadata": {
    "scrolled": true
   },
   "outputs": [],
   "source": []
  },
  {
   "cell_type": "code",
   "execution_count": null,
   "id": "b182e045",
   "metadata": {},
   "outputs": [],
   "source": []
  }
 ],
 "metadata": {
  "kernelspec": {
   "display_name": "Python 3 (ipykernel)",
   "language": "python",
   "name": "python3"
  },
  "language_info": {
   "codemirror_mode": {
    "name": "ipython",
    "version": 3
   },
   "file_extension": ".py",
   "mimetype": "text/x-python",
   "name": "python",
   "nbconvert_exporter": "python",
   "pygments_lexer": "ipython3",
   "version": "3.9.13"
  }
 },
 "nbformat": 4,
 "nbformat_minor": 5
}
